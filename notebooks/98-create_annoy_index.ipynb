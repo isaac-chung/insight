{
 "cells": [
  {
   "cell_type": "code",
   "execution_count": 1,
   "metadata": {},
   "outputs": [
    {
     "name": "stdout",
     "output_type": "stream",
     "text": [
      "C:\\Users\\chung\\Documents\\04-Insight\\nextpick\\NextPick-app\\NextPick\\NextPick\n",
      "C:\\Users\\chung\\Documents\\04-Insight\\nextpick\\NextPick-app\\NextPick\n"
     ]
    }
   ],
   "source": [
    "import os\n",
    "print(os.getcwd())  # C:\\Users\\chung\\Documents\\04-Insight\\nextpick\\NextPick-app\\NextPick\n",
    "os.chdir('../')\n",
    "print(os.getcwd())  # C:\\Users\\chung\\Documents\\04-Insight\\nextpick\\NextPick-app\n",
    "\n",
    "from NextPick.image_search import *\n",
    "from NextPick.ImageDataset import ImageDataset\n",
    "import pickle\n",
    "from time import time\n",
    "\n",
    "from annoy import AnnoyIndex\n",
    "import config as cfg"
   ]
  },
  {
   "cell_type": "code",
   "execution_count": 2,
   "metadata": {},
   "outputs": [],
   "source": [
    "pkl_list = load_pkl_paths('data')\n",
    "input_dataset = ImageDataset('data')\n",
    "bs = 100\n",
    "image_loader = torch.utils.data.DataLoader(input_dataset, batch_size=bs)\n",
    "model, model_full = load_pretrained_model()"
   ]
  },
  {
   "cell_type": "code",
   "execution_count": 3,
   "metadata": {},
   "outputs": [],
   "source": [
    "pd_files = input_dataset.get_file_df()"
   ]
  },
  {
   "cell_type": "code",
   "execution_count": 4,
   "metadata": {},
   "outputs": [],
   "source": [
    "start = time()\n",
    "annoy_idx = get_vector_index(model, image_loader)\n",
    "end = time()"
   ]
  },
  {
   "cell_type": "code",
   "execution_count": 5,
   "metadata": {},
   "outputs": [
    {
     "name": "stdout",
     "output_type": "stream",
     "text": [
      "Indices generated in 1957.93s.\n"
     ]
    }
   ],
   "source": [
    "print('Indices generated in %.2fs.'%(end-start)) #257sec for 2529 images"
   ]
  },
  {
   "cell_type": "code",
   "execution_count": 6,
   "metadata": {},
   "outputs": [
    {
     "data": {
      "text/plain": [
       "True"
      ]
     },
     "execution_count": 6,
     "metadata": {},
     "output_type": "execute_result"
    }
   ],
   "source": [
    "annoy_path = 'annoy_idx_2.annoy'\n",
    "annoy_idx.save(annoy_path)"
   ]
  }
 ],
 "metadata": {
  "kernelspec": {
   "display_name": "Python 3",
   "language": "python",
   "name": "python3"
  },
  "language_info": {
   "codemirror_mode": {
    "name": "ipython",
    "version": 3
   },
   "file_extension": ".py",
   "mimetype": "text/x-python",
   "name": "python",
   "nbconvert_exporter": "python",
   "pygments_lexer": "ipython3",
   "version": "3.7.3"
  }
 },
 "nbformat": 4,
 "nbformat_minor": 4
}
