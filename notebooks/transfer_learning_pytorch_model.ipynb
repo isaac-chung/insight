{
 "cells": [
  {
   "cell_type": "markdown",
   "metadata": {},
   "source": [
    "## Transfer Learning: Feature Extraction\n",
    "\n",
    "\"*In practice, very few people train an entire Convolutional Network from scratch (with random initialization), because it is relatively rare to have a dataset of sufficient size. Instead, it is common to pretrain a ConvNet on a very large dataset (e.g. ImageNet, which contains 1.2 million images with 1000 categories), and then use the ConvNet either as an initialization or a fixed feature extractor for the task of interest.*\" From PyTorch.\n",
    "\n",
    "The goal here is to train a classifier from a pre-trained CNN on another data set. The original CNN classifier has 365 classes. The new data set has 132 class labels, so in feature extraction we freeze the convolutional base, and retrain the classifier portion of the CNN. Only this last fully connected layer is trained."
   ]
  },
  {
   "cell_type": "code",
   "execution_count": 1,
   "metadata": {},
   "outputs": [
    {
     "name": "stdout",
     "output_type": "stream",
     "text": [
      "C:\\Users\\chung\\Documents\\04-Insight\\nextpick\\notebooks\n",
      "C:\\Users\\chung\\Documents\\04-Insight\\nextpick\\NextPick-app\n"
     ]
    }
   ],
   "source": [
    "import warnings\n",
    "warnings.filterwarnings(\"ignore\")\n",
    "\n",
    "import os\n",
    "print(os.getcwd())  # C:\\Users\\chung\\Documents\\github_repos\\nextpick\\notebooks\n",
    "os.chdir('../NextPick-app/')\n",
    "print(os.getcwd())  # C:\\Users\\chung\\Documents\\github_repos\\nextpick\\\n",
    "import time\n",
    "import copy\n",
    "\n",
    "from NextPick.NextPick.image_search import *\n",
    "from NextPick.NextPick.ImageDataset import ImageDataset\n",
    "\n",
    "import pickle\n",
    "import numpy as np\n",
    "\n",
    "\n",
    "import torch\n",
    "import torch.nn as nn\n",
    "from torch.autograd import Variable as V\n",
    "import torchvision\n",
    "import torchvision.models as models\n",
    "from torchvision import transforms as trn\n",
    "from torch.nn import functional as F\n",
    "import torch.optim as optim\n",
    "from torch.optim import lr_scheduler\n",
    "from PIL import Image\n",
    "\n",
    "from barbar import Bar"
   ]
  },
  {
   "cell_type": "markdown",
   "metadata": {},
   "source": [
    "`model` is the convolutional base of the pretrained CNN. Notice it's `fc` layer is empty. We are going to use this and add on a new layer to train our new classifier. \\\n",
    "`model_full` is the original full pre-trained CNN. "
   ]
  },
  {
   "cell_type": "code",
   "execution_count": 2,
   "metadata": {},
   "outputs": [],
   "source": [
    "pkl_list = load_pkl_paths('data')\n",
    "input_dataset = ImageDataset('data')\n",
    "bs = 100\n",
    "image_loader = torch.utils.data.DataLoader(input_dataset, batch_size=bs)\n",
    "model, model_full = load_pretrained_model()"
   ]
  },
  {
   "cell_type": "code",
   "execution_count": 3,
   "metadata": {},
   "outputs": [],
   "source": [
    "transform = trn.Compose([trn.Resize((256, 256)),\n",
    "                               trn.CenterCrop(224),\n",
    "                               trn.ToTensor(),\n",
    "                               trn.Normalize([0.485, 0.456, 0.406], [0.229, 0.224, 0.225])\n",
    "                              ])"
   ]
  },
  {
   "cell_type": "code",
   "execution_count": 4,
   "metadata": {},
   "outputs": [],
   "source": [
    "from torchvision.datasets import ImageFolder\n",
    "\n",
    "raw_dataset = ImageFolder(root='data', transform=transform)"
   ]
  },
  {
   "cell_type": "code",
   "execution_count": 5,
   "metadata": {},
   "outputs": [],
   "source": [
    "with open('NextPick/class_labels.pkl','rb') as f:\n",
    "    class_labels = pickle.load(f)\n",
    "    f.close()"
   ]
  },
  {
   "cell_type": "code",
   "execution_count": 6,
   "metadata": {},
   "outputs": [
    {
     "name": "stdout",
     "output_type": "stream",
     "text": [
      "torch.Size([3, 224, 224]) apartment building\n"
     ]
    }
   ],
   "source": [
    "image, idx = raw_dataset[456]\n",
    "print(image.shape, class_labels[idx])"
   ]
  },
  {
   "cell_type": "code",
   "execution_count": 7,
   "metadata": {},
   "outputs": [
    {
     "data": {
      "text/plain": [
       "ResNet(\n",
       "  (conv1): Conv2d(3, 64, kernel_size=(7, 7), stride=(2, 2), padding=(3, 3), bias=False)\n",
       "  (bn1): BatchNorm2d(64, eps=1e-05, momentum=0.1, affine=True, track_running_stats=True)\n",
       "  (relu): ReLU(inplace)\n",
       "  (maxpool): MaxPool2d(kernel_size=3, stride=2, padding=1, dilation=1, ceil_mode=False)\n",
       "  (layer1): Sequential(\n",
       "    (0): BasicBlock(\n",
       "      (conv1): Conv2d(64, 64, kernel_size=(3, 3), stride=(1, 1), padding=(1, 1), bias=False)\n",
       "      (bn1): BatchNorm2d(64, eps=1e-05, momentum=0.1, affine=True, track_running_stats=True)\n",
       "      (relu): ReLU(inplace)\n",
       "      (conv2): Conv2d(64, 64, kernel_size=(3, 3), stride=(1, 1), padding=(1, 1), bias=False)\n",
       "      (bn2): BatchNorm2d(64, eps=1e-05, momentum=0.1, affine=True, track_running_stats=True)\n",
       "    )\n",
       "    (1): BasicBlock(\n",
       "      (conv1): Conv2d(64, 64, kernel_size=(3, 3), stride=(1, 1), padding=(1, 1), bias=False)\n",
       "      (bn1): BatchNorm2d(64, eps=1e-05, momentum=0.1, affine=True, track_running_stats=True)\n",
       "      (relu): ReLU(inplace)\n",
       "      (conv2): Conv2d(64, 64, kernel_size=(3, 3), stride=(1, 1), padding=(1, 1), bias=False)\n",
       "      (bn2): BatchNorm2d(64, eps=1e-05, momentum=0.1, affine=True, track_running_stats=True)\n",
       "    )\n",
       "  )\n",
       "  (layer2): Sequential(\n",
       "    (0): BasicBlock(\n",
       "      (conv1): Conv2d(64, 128, kernel_size=(3, 3), stride=(2, 2), padding=(1, 1), bias=False)\n",
       "      (bn1): BatchNorm2d(128, eps=1e-05, momentum=0.1, affine=True, track_running_stats=True)\n",
       "      (relu): ReLU(inplace)\n",
       "      (conv2): Conv2d(128, 128, kernel_size=(3, 3), stride=(1, 1), padding=(1, 1), bias=False)\n",
       "      (bn2): BatchNorm2d(128, eps=1e-05, momentum=0.1, affine=True, track_running_stats=True)\n",
       "      (downsample): Sequential(\n",
       "        (0): Conv2d(64, 128, kernel_size=(1, 1), stride=(2, 2), bias=False)\n",
       "        (1): BatchNorm2d(128, eps=1e-05, momentum=0.1, affine=True, track_running_stats=True)\n",
       "      )\n",
       "    )\n",
       "    (1): BasicBlock(\n",
       "      (conv1): Conv2d(128, 128, kernel_size=(3, 3), stride=(1, 1), padding=(1, 1), bias=False)\n",
       "      (bn1): BatchNorm2d(128, eps=1e-05, momentum=0.1, affine=True, track_running_stats=True)\n",
       "      (relu): ReLU(inplace)\n",
       "      (conv2): Conv2d(128, 128, kernel_size=(3, 3), stride=(1, 1), padding=(1, 1), bias=False)\n",
       "      (bn2): BatchNorm2d(128, eps=1e-05, momentum=0.1, affine=True, track_running_stats=True)\n",
       "    )\n",
       "  )\n",
       "  (layer3): Sequential(\n",
       "    (0): BasicBlock(\n",
       "      (conv1): Conv2d(128, 256, kernel_size=(3, 3), stride=(2, 2), padding=(1, 1), bias=False)\n",
       "      (bn1): BatchNorm2d(256, eps=1e-05, momentum=0.1, affine=True, track_running_stats=True)\n",
       "      (relu): ReLU(inplace)\n",
       "      (conv2): Conv2d(256, 256, kernel_size=(3, 3), stride=(1, 1), padding=(1, 1), bias=False)\n",
       "      (bn2): BatchNorm2d(256, eps=1e-05, momentum=0.1, affine=True, track_running_stats=True)\n",
       "      (downsample): Sequential(\n",
       "        (0): Conv2d(128, 256, kernel_size=(1, 1), stride=(2, 2), bias=False)\n",
       "        (1): BatchNorm2d(256, eps=1e-05, momentum=0.1, affine=True, track_running_stats=True)\n",
       "      )\n",
       "    )\n",
       "    (1): BasicBlock(\n",
       "      (conv1): Conv2d(256, 256, kernel_size=(3, 3), stride=(1, 1), padding=(1, 1), bias=False)\n",
       "      (bn1): BatchNorm2d(256, eps=1e-05, momentum=0.1, affine=True, track_running_stats=True)\n",
       "      (relu): ReLU(inplace)\n",
       "      (conv2): Conv2d(256, 256, kernel_size=(3, 3), stride=(1, 1), padding=(1, 1), bias=False)\n",
       "      (bn2): BatchNorm2d(256, eps=1e-05, momentum=0.1, affine=True, track_running_stats=True)\n",
       "    )\n",
       "  )\n",
       "  (layer4): Sequential(\n",
       "    (0): BasicBlock(\n",
       "      (conv1): Conv2d(256, 512, kernel_size=(3, 3), stride=(2, 2), padding=(1, 1), bias=False)\n",
       "      (bn1): BatchNorm2d(512, eps=1e-05, momentum=0.1, affine=True, track_running_stats=True)\n",
       "      (relu): ReLU(inplace)\n",
       "      (conv2): Conv2d(512, 512, kernel_size=(3, 3), stride=(1, 1), padding=(1, 1), bias=False)\n",
       "      (bn2): BatchNorm2d(512, eps=1e-05, momentum=0.1, affine=True, track_running_stats=True)\n",
       "      (downsample): Sequential(\n",
       "        (0): Conv2d(256, 512, kernel_size=(1, 1), stride=(2, 2), bias=False)\n",
       "        (1): BatchNorm2d(512, eps=1e-05, momentum=0.1, affine=True, track_running_stats=True)\n",
       "      )\n",
       "    )\n",
       "    (1): BasicBlock(\n",
       "      (conv1): Conv2d(512, 512, kernel_size=(3, 3), stride=(1, 1), padding=(1, 1), bias=False)\n",
       "      (bn1): BatchNorm2d(512, eps=1e-05, momentum=0.1, affine=True, track_running_stats=True)\n",
       "      (relu): ReLU(inplace)\n",
       "      (conv2): Conv2d(512, 512, kernel_size=(3, 3), stride=(1, 1), padding=(1, 1), bias=False)\n",
       "      (bn2): BatchNorm2d(512, eps=1e-05, momentum=0.1, affine=True, track_running_stats=True)\n",
       "    )\n",
       "  )\n",
       "  (avgpool): AdaptiveAvgPool2d(output_size=(1, 1))\n",
       "  (fc): Sequential()\n",
       ")"
      ]
     },
     "execution_count": 7,
     "metadata": {},
     "output_type": "execute_result"
    }
   ],
   "source": [
    "model"
   ]
  },
  {
   "cell_type": "code",
   "execution_count": 8,
   "metadata": {},
   "outputs": [
    {
     "data": {
      "text/plain": [
       "ResNet(\n",
       "  (conv1): Conv2d(3, 64, kernel_size=(7, 7), stride=(2, 2), padding=(3, 3), bias=False)\n",
       "  (bn1): BatchNorm2d(64, eps=1e-05, momentum=0.1, affine=True, track_running_stats=True)\n",
       "  (relu): ReLU(inplace)\n",
       "  (maxpool): MaxPool2d(kernel_size=3, stride=2, padding=1, dilation=1, ceil_mode=False)\n",
       "  (layer1): Sequential(\n",
       "    (0): BasicBlock(\n",
       "      (conv1): Conv2d(64, 64, kernel_size=(3, 3), stride=(1, 1), padding=(1, 1), bias=False)\n",
       "      (bn1): BatchNorm2d(64, eps=1e-05, momentum=0.1, affine=True, track_running_stats=True)\n",
       "      (relu): ReLU(inplace)\n",
       "      (conv2): Conv2d(64, 64, kernel_size=(3, 3), stride=(1, 1), padding=(1, 1), bias=False)\n",
       "      (bn2): BatchNorm2d(64, eps=1e-05, momentum=0.1, affine=True, track_running_stats=True)\n",
       "    )\n",
       "    (1): BasicBlock(\n",
       "      (conv1): Conv2d(64, 64, kernel_size=(3, 3), stride=(1, 1), padding=(1, 1), bias=False)\n",
       "      (bn1): BatchNorm2d(64, eps=1e-05, momentum=0.1, affine=True, track_running_stats=True)\n",
       "      (relu): ReLU(inplace)\n",
       "      (conv2): Conv2d(64, 64, kernel_size=(3, 3), stride=(1, 1), padding=(1, 1), bias=False)\n",
       "      (bn2): BatchNorm2d(64, eps=1e-05, momentum=0.1, affine=True, track_running_stats=True)\n",
       "    )\n",
       "  )\n",
       "  (layer2): Sequential(\n",
       "    (0): BasicBlock(\n",
       "      (conv1): Conv2d(64, 128, kernel_size=(3, 3), stride=(2, 2), padding=(1, 1), bias=False)\n",
       "      (bn1): BatchNorm2d(128, eps=1e-05, momentum=0.1, affine=True, track_running_stats=True)\n",
       "      (relu): ReLU(inplace)\n",
       "      (conv2): Conv2d(128, 128, kernel_size=(3, 3), stride=(1, 1), padding=(1, 1), bias=False)\n",
       "      (bn2): BatchNorm2d(128, eps=1e-05, momentum=0.1, affine=True, track_running_stats=True)\n",
       "      (downsample): Sequential(\n",
       "        (0): Conv2d(64, 128, kernel_size=(1, 1), stride=(2, 2), bias=False)\n",
       "        (1): BatchNorm2d(128, eps=1e-05, momentum=0.1, affine=True, track_running_stats=True)\n",
       "      )\n",
       "    )\n",
       "    (1): BasicBlock(\n",
       "      (conv1): Conv2d(128, 128, kernel_size=(3, 3), stride=(1, 1), padding=(1, 1), bias=False)\n",
       "      (bn1): BatchNorm2d(128, eps=1e-05, momentum=0.1, affine=True, track_running_stats=True)\n",
       "      (relu): ReLU(inplace)\n",
       "      (conv2): Conv2d(128, 128, kernel_size=(3, 3), stride=(1, 1), padding=(1, 1), bias=False)\n",
       "      (bn2): BatchNorm2d(128, eps=1e-05, momentum=0.1, affine=True, track_running_stats=True)\n",
       "    )\n",
       "  )\n",
       "  (layer3): Sequential(\n",
       "    (0): BasicBlock(\n",
       "      (conv1): Conv2d(128, 256, kernel_size=(3, 3), stride=(2, 2), padding=(1, 1), bias=False)\n",
       "      (bn1): BatchNorm2d(256, eps=1e-05, momentum=0.1, affine=True, track_running_stats=True)\n",
       "      (relu): ReLU(inplace)\n",
       "      (conv2): Conv2d(256, 256, kernel_size=(3, 3), stride=(1, 1), padding=(1, 1), bias=False)\n",
       "      (bn2): BatchNorm2d(256, eps=1e-05, momentum=0.1, affine=True, track_running_stats=True)\n",
       "      (downsample): Sequential(\n",
       "        (0): Conv2d(128, 256, kernel_size=(1, 1), stride=(2, 2), bias=False)\n",
       "        (1): BatchNorm2d(256, eps=1e-05, momentum=0.1, affine=True, track_running_stats=True)\n",
       "      )\n",
       "    )\n",
       "    (1): BasicBlock(\n",
       "      (conv1): Conv2d(256, 256, kernel_size=(3, 3), stride=(1, 1), padding=(1, 1), bias=False)\n",
       "      (bn1): BatchNorm2d(256, eps=1e-05, momentum=0.1, affine=True, track_running_stats=True)\n",
       "      (relu): ReLU(inplace)\n",
       "      (conv2): Conv2d(256, 256, kernel_size=(3, 3), stride=(1, 1), padding=(1, 1), bias=False)\n",
       "      (bn2): BatchNorm2d(256, eps=1e-05, momentum=0.1, affine=True, track_running_stats=True)\n",
       "    )\n",
       "  )\n",
       "  (layer4): Sequential(\n",
       "    (0): BasicBlock(\n",
       "      (conv1): Conv2d(256, 512, kernel_size=(3, 3), stride=(2, 2), padding=(1, 1), bias=False)\n",
       "      (bn1): BatchNorm2d(512, eps=1e-05, momentum=0.1, affine=True, track_running_stats=True)\n",
       "      (relu): ReLU(inplace)\n",
       "      (conv2): Conv2d(512, 512, kernel_size=(3, 3), stride=(1, 1), padding=(1, 1), bias=False)\n",
       "      (bn2): BatchNorm2d(512, eps=1e-05, momentum=0.1, affine=True, track_running_stats=True)\n",
       "      (downsample): Sequential(\n",
       "        (0): Conv2d(256, 512, kernel_size=(1, 1), stride=(2, 2), bias=False)\n",
       "        (1): BatchNorm2d(512, eps=1e-05, momentum=0.1, affine=True, track_running_stats=True)\n",
       "      )\n",
       "    )\n",
       "    (1): BasicBlock(\n",
       "      (conv1): Conv2d(512, 512, kernel_size=(3, 3), stride=(1, 1), padding=(1, 1), bias=False)\n",
       "      (bn1): BatchNorm2d(512, eps=1e-05, momentum=0.1, affine=True, track_running_stats=True)\n",
       "      (relu): ReLU(inplace)\n",
       "      (conv2): Conv2d(512, 512, kernel_size=(3, 3), stride=(1, 1), padding=(1, 1), bias=False)\n",
       "      (bn2): BatchNorm2d(512, eps=1e-05, momentum=0.1, affine=True, track_running_stats=True)\n",
       "    )\n",
       "  )\n",
       "  (avgpool): AdaptiveAvgPool2d(output_size=(1, 1))\n",
       "  (fc): Linear(in_features=512, out_features=365, bias=True)\n",
       ")"
      ]
     },
     "execution_count": 8,
     "metadata": {},
     "output_type": "execute_result"
    }
   ],
   "source": [
    "model_full"
   ]
  },
  {
   "cell_type": "code",
   "execution_count": 9,
   "metadata": {},
   "outputs": [],
   "source": [
    "pd_files = input_dataset.get_file_df()"
   ]
  },
  {
   "cell_type": "code",
   "execution_count": 10,
   "metadata": {},
   "outputs": [],
   "source": [
    "with open('NextPick/pd_files.pkl','rb') as f:\n",
    "    pd_files1 = pickle.load(f)\n",
    "    f.close()"
   ]
  },
  {
   "cell_type": "code",
   "execution_count": 11,
   "metadata": {},
   "outputs": [
    {
     "data": {
      "text/html": [
       "<div>\n",
       "<style scoped>\n",
       "    .dataframe tbody tr th:only-of-type {\n",
       "        vertical-align: middle;\n",
       "    }\n",
       "\n",
       "    .dataframe tbody tr th {\n",
       "        vertical-align: top;\n",
       "    }\n",
       "\n",
       "    .dataframe thead th {\n",
       "        text-align: right;\n",
       "    }\n",
       "</style>\n",
       "<table border=\"1\" class=\"dataframe\">\n",
       "  <thead>\n",
       "    <tr style=\"text-align: right;\">\n",
       "      <th></th>\n",
       "      <th>label</th>\n",
       "      <th>name</th>\n",
       "      <th>sub_paths</th>\n",
       "      <th>path</th>\n",
       "    </tr>\n",
       "  </thead>\n",
       "  <tbody>\n",
       "    <tr>\n",
       "      <th>0</th>\n",
       "      <td>abbey</td>\n",
       "      <td>49640399046.jpg</td>\n",
       "      <td>/abbey\\49640399046.jpg</td>\n",
       "      <td>data\\abbey\\49640399046.jpg</td>\n",
       "    </tr>\n",
       "    <tr>\n",
       "      <th>1</th>\n",
       "      <td>abbey</td>\n",
       "      <td>49644999867.jpg</td>\n",
       "      <td>/abbey\\49644999867.jpg</td>\n",
       "      <td>data\\abbey\\49644999867.jpg</td>\n",
       "    </tr>\n",
       "    <tr>\n",
       "      <th>2</th>\n",
       "      <td>abbey</td>\n",
       "      <td>49646975087.jpg</td>\n",
       "      <td>/abbey\\49646975087.jpg</td>\n",
       "      <td>data\\abbey\\49646975087.jpg</td>\n",
       "    </tr>\n",
       "    <tr>\n",
       "      <th>3</th>\n",
       "      <td>abbey</td>\n",
       "      <td>49651855633.jpg</td>\n",
       "      <td>/abbey\\49651855633.jpg</td>\n",
       "      <td>data\\abbey\\49651855633.jpg</td>\n",
       "    </tr>\n",
       "    <tr>\n",
       "      <th>4</th>\n",
       "      <td>abbey</td>\n",
       "      <td>49654046898.jpg</td>\n",
       "      <td>/abbey\\49654046898.jpg</td>\n",
       "      <td>data\\abbey\\49654046898.jpg</td>\n",
       "    </tr>\n",
       "    <tr>\n",
       "      <th>5</th>\n",
       "      <td>abbey</td>\n",
       "      <td>49654589586.jpg</td>\n",
       "      <td>/abbey\\49654589586.jpg</td>\n",
       "      <td>data\\abbey\\49654589586.jpg</td>\n",
       "    </tr>\n",
       "    <tr>\n",
       "      <th>6</th>\n",
       "      <td>abbey</td>\n",
       "      <td>49657909762.jpg</td>\n",
       "      <td>/abbey\\49657909762.jpg</td>\n",
       "      <td>data\\abbey\\49657909762.jpg</td>\n",
       "    </tr>\n",
       "    <tr>\n",
       "      <th>7</th>\n",
       "      <td>abbey</td>\n",
       "      <td>49661571612.jpg</td>\n",
       "      <td>/abbey\\49661571612.jpg</td>\n",
       "      <td>data\\abbey\\49661571612.jpg</td>\n",
       "    </tr>\n",
       "    <tr>\n",
       "      <th>8</th>\n",
       "      <td>abbey</td>\n",
       "      <td>49664815043.jpg</td>\n",
       "      <td>/abbey\\49664815043.jpg</td>\n",
       "      <td>data\\abbey\\49664815043.jpg</td>\n",
       "    </tr>\n",
       "    <tr>\n",
       "      <th>9</th>\n",
       "      <td>abbey</td>\n",
       "      <td>49664815063.jpg</td>\n",
       "      <td>/abbey\\49664815063.jpg</td>\n",
       "      <td>data\\abbey\\49664815063.jpg</td>\n",
       "    </tr>\n",
       "    <tr>\n",
       "      <th>10</th>\n",
       "      <td>abbey</td>\n",
       "      <td>49665993343.jpg</td>\n",
       "      <td>/abbey\\49665993343.jpg</td>\n",
       "      <td>data\\abbey\\49665993343.jpg</td>\n",
       "    </tr>\n",
       "    <tr>\n",
       "      <th>11</th>\n",
       "      <td>abbey</td>\n",
       "      <td>49665993428.jpg</td>\n",
       "      <td>/abbey\\49665993428.jpg</td>\n",
       "      <td>data\\abbey\\49665993428.jpg</td>\n",
       "    </tr>\n",
       "    <tr>\n",
       "      <th>12</th>\n",
       "      <td>abbey</td>\n",
       "      <td>49666218916.jpg</td>\n",
       "      <td>/abbey\\49666218916.jpg</td>\n",
       "      <td>data\\abbey\\49666218916.jpg</td>\n",
       "    </tr>\n",
       "    <tr>\n",
       "      <th>13</th>\n",
       "      <td>abbey</td>\n",
       "      <td>49666535766.jpg</td>\n",
       "      <td>/abbey\\49666535766.jpg</td>\n",
       "      <td>data\\abbey\\49666535766.jpg</td>\n",
       "    </tr>\n",
       "    <tr>\n",
       "      <th>14</th>\n",
       "      <td>abbey</td>\n",
       "      <td>49669010962.jpg</td>\n",
       "      <td>/abbey\\49669010962.jpg</td>\n",
       "      <td>data\\abbey\\49669010962.jpg</td>\n",
       "    </tr>\n",
       "  </tbody>\n",
       "</table>\n",
       "</div>"
      ],
      "text/plain": [
       "    label             name               sub_paths                        path\n",
       "0   abbey  49640399046.jpg  /abbey\\49640399046.jpg  data\\abbey\\49640399046.jpg\n",
       "1   abbey  49644999867.jpg  /abbey\\49644999867.jpg  data\\abbey\\49644999867.jpg\n",
       "2   abbey  49646975087.jpg  /abbey\\49646975087.jpg  data\\abbey\\49646975087.jpg\n",
       "3   abbey  49651855633.jpg  /abbey\\49651855633.jpg  data\\abbey\\49651855633.jpg\n",
       "4   abbey  49654046898.jpg  /abbey\\49654046898.jpg  data\\abbey\\49654046898.jpg\n",
       "5   abbey  49654589586.jpg  /abbey\\49654589586.jpg  data\\abbey\\49654589586.jpg\n",
       "6   abbey  49657909762.jpg  /abbey\\49657909762.jpg  data\\abbey\\49657909762.jpg\n",
       "7   abbey  49661571612.jpg  /abbey\\49661571612.jpg  data\\abbey\\49661571612.jpg\n",
       "8   abbey  49664815043.jpg  /abbey\\49664815043.jpg  data\\abbey\\49664815043.jpg\n",
       "9   abbey  49664815063.jpg  /abbey\\49664815063.jpg  data\\abbey\\49664815063.jpg\n",
       "10  abbey  49665993343.jpg  /abbey\\49665993343.jpg  data\\abbey\\49665993343.jpg\n",
       "11  abbey  49665993428.jpg  /abbey\\49665993428.jpg  data\\abbey\\49665993428.jpg\n",
       "12  abbey  49666218916.jpg  /abbey\\49666218916.jpg  data\\abbey\\49666218916.jpg\n",
       "13  abbey  49666535766.jpg  /abbey\\49666535766.jpg  data\\abbey\\49666535766.jpg\n",
       "14  abbey  49669010962.jpg  /abbey\\49669010962.jpg  data\\abbey\\49669010962.jpg"
      ]
     },
     "execution_count": 11,
     "metadata": {},
     "output_type": "execute_result"
    }
   ],
   "source": [
    "pd_files.head(15)"
   ]
  },
  {
   "cell_type": "code",
   "execution_count": 12,
   "metadata": {},
   "outputs": [
    {
     "data": {
      "text/html": [
       "<div>\n",
       "<style scoped>\n",
       "    .dataframe tbody tr th:only-of-type {\n",
       "        vertical-align: middle;\n",
       "    }\n",
       "\n",
       "    .dataframe tbody tr th {\n",
       "        vertical-align: top;\n",
       "    }\n",
       "\n",
       "    .dataframe thead th {\n",
       "        text-align: right;\n",
       "    }\n",
       "</style>\n",
       "<table border=\"1\" class=\"dataframe\">\n",
       "  <thead>\n",
       "    <tr style=\"text-align: right;\">\n",
       "      <th></th>\n",
       "      <th>path</th>\n",
       "      <th>label</th>\n",
       "      <th>name</th>\n",
       "      <th>sub_paths</th>\n",
       "    </tr>\n",
       "  </thead>\n",
       "  <tbody>\n",
       "    <tr>\n",
       "      <th>0</th>\n",
       "      <td>C:/Users/chung/Documents/04-Insight/insight/Ne...</td>\n",
       "      <td>abbey</td>\n",
       "      <td>49640399046.jpg</td>\n",
       "      <td>/abbey\\49640399046.jpg</td>\n",
       "    </tr>\n",
       "    <tr>\n",
       "      <th>1</th>\n",
       "      <td>C:/Users/chung/Documents/04-Insight/insight/Ne...</td>\n",
       "      <td>abbey</td>\n",
       "      <td>49644999867.jpg</td>\n",
       "      <td>/abbey\\49644999867.jpg</td>\n",
       "    </tr>\n",
       "    <tr>\n",
       "      <th>2</th>\n",
       "      <td>C:/Users/chung/Documents/04-Insight/insight/Ne...</td>\n",
       "      <td>abbey</td>\n",
       "      <td>49646975087.jpg</td>\n",
       "      <td>/abbey\\49646975087.jpg</td>\n",
       "    </tr>\n",
       "    <tr>\n",
       "      <th>3</th>\n",
       "      <td>C:/Users/chung/Documents/04-Insight/insight/Ne...</td>\n",
       "      <td>abbey</td>\n",
       "      <td>49651855633.jpg</td>\n",
       "      <td>/abbey\\49651855633.jpg</td>\n",
       "    </tr>\n",
       "    <tr>\n",
       "      <th>4</th>\n",
       "      <td>C:/Users/chung/Documents/04-Insight/insight/Ne...</td>\n",
       "      <td>abbey</td>\n",
       "      <td>49654046898.jpg</td>\n",
       "      <td>/abbey\\49654046898.jpg</td>\n",
       "    </tr>\n",
       "    <tr>\n",
       "      <th>5</th>\n",
       "      <td>C:/Users/chung/Documents/04-Insight/insight/Ne...</td>\n",
       "      <td>abbey</td>\n",
       "      <td>49654589586.jpg</td>\n",
       "      <td>/abbey\\49654589586.jpg</td>\n",
       "    </tr>\n",
       "    <tr>\n",
       "      <th>6</th>\n",
       "      <td>C:/Users/chung/Documents/04-Insight/insight/Ne...</td>\n",
       "      <td>abbey</td>\n",
       "      <td>49657909762.jpg</td>\n",
       "      <td>/abbey\\49657909762.jpg</td>\n",
       "    </tr>\n",
       "    <tr>\n",
       "      <th>7</th>\n",
       "      <td>C:/Users/chung/Documents/04-Insight/insight/Ne...</td>\n",
       "      <td>abbey</td>\n",
       "      <td>49661571612.jpg</td>\n",
       "      <td>/abbey\\49661571612.jpg</td>\n",
       "    </tr>\n",
       "    <tr>\n",
       "      <th>8</th>\n",
       "      <td>C:/Users/chung/Documents/04-Insight/insight/Ne...</td>\n",
       "      <td>abbey</td>\n",
       "      <td>49664815043.jpg</td>\n",
       "      <td>/abbey\\49664815043.jpg</td>\n",
       "    </tr>\n",
       "    <tr>\n",
       "      <th>9</th>\n",
       "      <td>C:/Users/chung/Documents/04-Insight/insight/Ne...</td>\n",
       "      <td>abbey</td>\n",
       "      <td>49664815063.jpg</td>\n",
       "      <td>/abbey\\49664815063.jpg</td>\n",
       "    </tr>\n",
       "    <tr>\n",
       "      <th>10</th>\n",
       "      <td>C:/Users/chung/Documents/04-Insight/insight/Ne...</td>\n",
       "      <td>abbey</td>\n",
       "      <td>49665993343.jpg</td>\n",
       "      <td>/abbey\\49665993343.jpg</td>\n",
       "    </tr>\n",
       "    <tr>\n",
       "      <th>11</th>\n",
       "      <td>C:/Users/chung/Documents/04-Insight/insight/Ne...</td>\n",
       "      <td>abbey</td>\n",
       "      <td>49665993428.jpg</td>\n",
       "      <td>/abbey\\49665993428.jpg</td>\n",
       "    </tr>\n",
       "    <tr>\n",
       "      <th>12</th>\n",
       "      <td>C:/Users/chung/Documents/04-Insight/insight/Ne...</td>\n",
       "      <td>abbey</td>\n",
       "      <td>49666218916.jpg</td>\n",
       "      <td>/abbey\\49666218916.jpg</td>\n",
       "    </tr>\n",
       "    <tr>\n",
       "      <th>13</th>\n",
       "      <td>C:/Users/chung/Documents/04-Insight/insight/Ne...</td>\n",
       "      <td>abbey</td>\n",
       "      <td>49666535766.jpg</td>\n",
       "      <td>/abbey\\49666535766.jpg</td>\n",
       "    </tr>\n",
       "    <tr>\n",
       "      <th>14</th>\n",
       "      <td>C:/Users/chung/Documents/04-Insight/insight/Ne...</td>\n",
       "      <td>abbey</td>\n",
       "      <td>49669010962.jpg</td>\n",
       "      <td>/abbey\\49669010962.jpg</td>\n",
       "    </tr>\n",
       "  </tbody>\n",
       "</table>\n",
       "</div>"
      ],
      "text/plain": [
       "                                                 path  label             name  \\\n",
       "0   C:/Users/chung/Documents/04-Insight/insight/Ne...  abbey  49640399046.jpg   \n",
       "1   C:/Users/chung/Documents/04-Insight/insight/Ne...  abbey  49644999867.jpg   \n",
       "2   C:/Users/chung/Documents/04-Insight/insight/Ne...  abbey  49646975087.jpg   \n",
       "3   C:/Users/chung/Documents/04-Insight/insight/Ne...  abbey  49651855633.jpg   \n",
       "4   C:/Users/chung/Documents/04-Insight/insight/Ne...  abbey  49654046898.jpg   \n",
       "5   C:/Users/chung/Documents/04-Insight/insight/Ne...  abbey  49654589586.jpg   \n",
       "6   C:/Users/chung/Documents/04-Insight/insight/Ne...  abbey  49657909762.jpg   \n",
       "7   C:/Users/chung/Documents/04-Insight/insight/Ne...  abbey  49661571612.jpg   \n",
       "8   C:/Users/chung/Documents/04-Insight/insight/Ne...  abbey  49664815043.jpg   \n",
       "9   C:/Users/chung/Documents/04-Insight/insight/Ne...  abbey  49664815063.jpg   \n",
       "10  C:/Users/chung/Documents/04-Insight/insight/Ne...  abbey  49665993343.jpg   \n",
       "11  C:/Users/chung/Documents/04-Insight/insight/Ne...  abbey  49665993428.jpg   \n",
       "12  C:/Users/chung/Documents/04-Insight/insight/Ne...  abbey  49666218916.jpg   \n",
       "13  C:/Users/chung/Documents/04-Insight/insight/Ne...  abbey  49666535766.jpg   \n",
       "14  C:/Users/chung/Documents/04-Insight/insight/Ne...  abbey  49669010962.jpg   \n",
       "\n",
       "                 sub_paths  \n",
       "0   /abbey\\49640399046.jpg  \n",
       "1   /abbey\\49644999867.jpg  \n",
       "2   /abbey\\49646975087.jpg  \n",
       "3   /abbey\\49651855633.jpg  \n",
       "4   /abbey\\49654046898.jpg  \n",
       "5   /abbey\\49654589586.jpg  \n",
       "6   /abbey\\49657909762.jpg  \n",
       "7   /abbey\\49661571612.jpg  \n",
       "8   /abbey\\49664815043.jpg  \n",
       "9   /abbey\\49664815063.jpg  \n",
       "10  /abbey\\49665993343.jpg  \n",
       "11  /abbey\\49665993428.jpg  \n",
       "12  /abbey\\49666218916.jpg  \n",
       "13  /abbey\\49666535766.jpg  \n",
       "14  /abbey\\49669010962.jpg  "
      ]
     },
     "execution_count": 12,
     "metadata": {},
     "output_type": "execute_result"
    }
   ],
   "source": [
    "pd_files1.head(15)"
   ]
  },
  {
   "cell_type": "code",
   "execution_count": 13,
   "metadata": {},
   "outputs": [],
   "source": [
    "pd_files = pd_files.drop(columns=['path'])"
   ]
  },
  {
   "cell_type": "code",
   "execution_count": 14,
   "metadata": {},
   "outputs": [
    {
     "data": {
      "text/plain": [
       "False"
      ]
     },
     "execution_count": 14,
     "metadata": {},
     "output_type": "execute_result"
    }
   ],
   "source": [
    "pd_files.equals(pd_files1)"
   ]
  },
  {
   "cell_type": "markdown",
   "metadata": {},
   "source": [
    "Now we freeze the convolutional base by setting `requires_grad == False`, and train the new classifier."
   ]
  },
  {
   "cell_type": "code",
   "execution_count": 15,
   "metadata": {},
   "outputs": [],
   "source": [
    "for param in model.parameters():\n",
    "    param.requires_grad = False"
   ]
  },
  {
   "cell_type": "markdown",
   "metadata": {},
   "source": [
    "Construct new linear layer for new classifier. Note that we want the same input features, but just the number of class labels as the number of outputs."
   ]
  },
  {
   "cell_type": "code",
   "execution_count": 16,
   "metadata": {},
   "outputs": [],
   "source": [
    "num_features = model_full.fc.in_features\n",
    "model.fc = nn.Linear(num_features, 132)"
   ]
  },
  {
   "cell_type": "markdown",
   "metadata": {},
   "source": [
    "Defining the device for training."
   ]
  },
  {
   "cell_type": "code",
   "execution_count": 17,
   "metadata": {},
   "outputs": [],
   "source": [
    "device = torch.device(\"cuda:0\" if torch.cuda.is_available() else \"cpu\")"
   ]
  },
  {
   "cell_type": "code",
   "execution_count": 18,
   "metadata": {},
   "outputs": [],
   "source": [
    "model = model.to(device)"
   ]
  },
  {
   "cell_type": "code",
   "execution_count": 19,
   "metadata": {},
   "outputs": [],
   "source": [
    "criterion = nn.CrossEntropyLoss()"
   ]
  },
  {
   "cell_type": "code",
   "execution_count": 20,
   "metadata": {},
   "outputs": [],
   "source": [
    "optimizer_conv = optim.Adam(model.fc.parameters(), lr=0.0001)\n",
    "exp_lr_scheduler = lr_scheduler.StepLR(optimizer_conv, step_size=7, gamma=0.1)"
   ]
  },
  {
   "cell_type": "markdown",
   "metadata": {},
   "source": [
    "We use the Torch imageFolder class and DataLoader"
   ]
  },
  {
   "cell_type": "code",
   "execution_count": 21,
   "metadata": {},
   "outputs": [],
   "source": [
    "trainloader = torch.utils.data.DataLoader(raw_dataset, batch_size=128,\n",
    "                                          shuffle=True, num_workers=3)"
   ]
  },
  {
   "cell_type": "code",
   "execution_count": 22,
   "metadata": {},
   "outputs": [],
   "source": [
    "model.fc_backup = nn.Identity()"
   ]
  },
  {
   "cell_type": "code",
   "execution_count": 23,
   "metadata": {},
   "outputs": [],
   "source": [
    "ds_length = len(raw_dataset)"
   ]
  },
  {
   "cell_type": "markdown",
   "metadata": {},
   "source": [
    "Using the [Barbar](https://github.com/yusugomori/barbar) package for PyTorch deep learning training progress bar. Here we define the topk (top5) accuracy from this [discussion](https://discuss.pytorch.org/t/imagenet-example-accuracy-calculation/7840/3)."
   ]
  },
  {
   "cell_type": "code",
   "execution_count": 25,
   "metadata": {},
   "outputs": [
    {
     "name": "stdout",
     "output_type": "stream",
     "text": [
      "Epoch 0/8\n",
      "----------\n",
      "12870/12870: [===============================>] - ETA 19.3sss\n",
      "Loss: 4.2810 Acc: 0.3998\n",
      "Training complete in 25m 6s\n",
      "Epoch 1/8\n",
      "----------\n",
      "12870/12870: [===============================>] - ETA 17.6sss\n",
      "Loss: 4.0584 Acc: 0.4901\n",
      "Training complete in 49m 51s\n",
      "Epoch 2/8\n",
      "----------\n",
      "12870/12870: [===============================>] - ETA 18.3sss\n",
      "Loss: 3.8630 Acc: 0.5420\n",
      "Training complete in 74m 39s\n",
      "Epoch 3/8\n",
      "----------\n",
      "12870/12870: [===============================>] - ETA 17.3sss\n",
      "Loss: 3.6917 Acc: 0.5723\n",
      "Training complete in 99m 29s\n",
      "Epoch 4/8\n",
      "----------\n",
      "12870/12870: [===============================>] - ETA 17.2sss\n",
      "Loss: 3.5386 Acc: 0.5939\n",
      "Training complete in 124m 18s\n",
      "Epoch 5/8\n",
      "----------\n",
      "12870/12870: [===============================>] - ETA 17.0sss\n",
      "Loss: 3.4116 Acc: 0.6120\n",
      "Training complete in 149m 0s\n",
      "Epoch 6/8\n",
      "----------\n",
      "12870/12870: [===============================>] - ETA 17.2sss\n",
      "Loss: 3.3359 Acc: 0.6235\n",
      "Training complete in 173m 43s\n",
      "Epoch 7/8\n",
      "----------\n",
      "12870/12870: [===============================>] - ETA 17.3sss\n",
      "Loss: 3.3242 Acc: 0.6247\n",
      "Training complete in 198m 30s\n",
      "Epoch 8/8\n",
      "----------\n",
      "12870/12870: [===============================>] - ETA 17.3sss\n",
      "Loss: 3.3122 Acc: 0.6267\n",
      "Training complete in 223m 24s\n",
      "Finished Training\n"
     ]
    }
   ],
   "source": [
    "since = time.time()\n",
    "num_epochs = 9\n",
    "k = 5\n",
    "model.train()\n",
    "\n",
    "for epoch in range(num_epochs):  # loop over the dataset multiple times\n",
    "\n",
    "    print('Epoch {}/{}'.format(epoch, num_epochs - 1))\n",
    "    print('-' * 10)\n",
    "    \n",
    "    running_loss = 0.0\n",
    "    running_corrects = 0\n",
    "    \n",
    "    for inputs, labels in Bar(trainloader):\n",
    "        \n",
    "        inputs = inputs.to(device)\n",
    "        labels = labels.to(device)\n",
    "\n",
    "        # zero the parameter gradients\n",
    "        optimizer_conv.zero_grad()\n",
    "\n",
    "        # forward. track history if only in train\n",
    "        with torch.set_grad_enabled(True):\n",
    "            outputs = model(inputs)\n",
    "            _, preds = torch.topk(outputs, k, largest=True, sorted=True)\n",
    "#             print()\n",
    "#             print(preds.shape)\n",
    "            preds = preds.t() # shape is now [topk, batch_size]\n",
    "            loss = criterion(outputs, labels)\n",
    "\n",
    "            # backward + optimize\n",
    "            loss.backward()\n",
    "            optimizer_conv.step()\n",
    "\n",
    "        # statistics\n",
    "        running_loss += loss.item() * inputs.size(0)\n",
    "        correct = preds.eq(labels.view(1, -1).expand_as(preds))\n",
    "#         print(correct.shape)\n",
    "        correct_k = correct.view(-1).float().sum(0, keepdim=True)\n",
    "#         print(correct_k.shape)\n",
    "        running_corrects += correct_k\n",
    "#         print(running_corrects)\n",
    "#         running_corrects += torch.sum(res == labels.data)\n",
    "        \n",
    "    exp_lr_scheduler.step()\n",
    "    epoch_loss = running_loss / ds_length\n",
    "    epoch_acc = running_corrects.double() / ds_length\n",
    "\n",
    "    print('Loss: %.4f Acc: %.4f' %(epoch_loss, epoch_acc.numpy()))\n",
    "\n",
    "    time_elapsed = time.time() - since\n",
    "    print('Training complete in {:.0f}m {:.0f}s'.format(\n",
    "        time_elapsed // 60, time_elapsed % 60))\n",
    "\n",
    "print('Finished Training')"
   ]
  },
  {
   "cell_type": "markdown",
   "metadata": {},
   "source": [
    "Save the trained model"
   ]
  },
  {
   "cell_type": "code",
   "execution_count": 26,
   "metadata": {},
   "outputs": [],
   "source": [
    "torch.save(model.state_dict(), \"transfer_model.pth\")"
   ]
  },
  {
   "cell_type": "markdown",
   "metadata": {},
   "source": [
    "Load the model"
   ]
  },
  {
   "cell_type": "code",
   "execution_count": 27,
   "metadata": {},
   "outputs": [],
   "source": [
    "# Model class must be defined somewhere\n",
    "# model = torch.load(PATH)\n",
    "# model.eval()"
   ]
  },
  {
   "cell_type": "code",
   "execution_count": null,
   "metadata": {},
   "outputs": [],
   "source": []
  }
 ],
 "metadata": {
  "kernelspec": {
   "display_name": "Python 3",
   "language": "python",
   "name": "python3"
  },
  "language_info": {
   "codemirror_mode": {
    "name": "ipython",
    "version": 3
   },
   "file_extension": ".py",
   "mimetype": "text/x-python",
   "name": "python",
   "nbconvert_exporter": "python",
   "pygments_lexer": "ipython3",
   "version": "3.7.3"
  }
 },
 "nbformat": 4,
 "nbformat_minor": 4
}
