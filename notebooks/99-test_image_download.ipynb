{
 "cells": [
  {
   "cell_type": "code",
   "execution_count": 1,
   "metadata": {},
   "outputs": [],
   "source": [
    "from time import time\n",
    "import config\n",
    "import flickrapi\n",
    "import requests\n",
    "import os\n",
    "import pandas as pd\n",
    "import pickle\n",
    "import logging\n",
    "\n",
    "\n",
    "def get_photos(image_tag):\n",
    "\n",
    "    # setup dataframe for data\n",
    "    raw_photos = pd.DataFrame(columns=['latitude', 'longitude','farm','server','id','secret'])\n",
    "    \n",
    "    # initialize api\n",
    "    flickr = flickrapi.FlickrAPI(config.api_key, config.api_secret, format='parsed-json')\n",
    "\n",
    "    errors = ''\n",
    "    try:\n",
    "        # search photos based on settings\n",
    "        photos = flickr.photos.search(tags=image_tag,\n",
    "                                      sort='relevance',\n",
    "                                      content_type=1,            #photos only\n",
    "                                      extras='description,geo,url_c',\n",
    "                                      has_geo=1,\n",
    "                                      geo_context=2,             #outdoors\n",
    "                                      per_page=2,\n",
    "                                      page=1\n",
    "                                      )\n",
    "\n",
    "        # append photo details: description and getags\n",
    "        raw_photos = raw_photos.append(pd.DataFrame(photos['photos']['photo'])\n",
    "                                       [['latitude', 'longitude','farm','server','id','secret']],\n",
    "                                       ignore_index=True)\n",
    "\n",
    "        # construct url from pieces\n",
    "        raw_photos['url'] = 'https://farm'+ raw_photos.farm.astype(str) + '.staticflickr.com/' + raw_photos.server.astype(str) + '/'+ raw_photos.id.astype(str) + '_' + raw_photos.secret.astype(str) + '.jpg'\n",
    "        download_images(raw_photos, image_tag)\n",
    "\n",
    "        # save data\n",
    "        with open('%s.pkl' %(image_tag), 'wb') as f:\n",
    "            pickle.dump(raw_photos, f)\n",
    "            f.close()\n",
    "            \n",
    "        del raw_photos\n",
    "        \n",
    "    except:\n",
    "        print('Could not get info for: %s. '%image_tag)\n",
    "        errors = image_tag\n",
    "\n",
    "    return photos\n",
    "\n",
    "\n",
    "def create_folder(path):\n",
    "    if not os.path.isdir(path):\n",
    "        os.makedirs(path)\n",
    "\n",
    "\n",
    "def download_images(df, keyword):\n",
    "    path = 'test_data'\n",
    "    create_folder(keyword)\n",
    "\n",
    "    print('...df length: %d' %len(df.index))\n",
    "    print('...going through each row of dataframe')\n",
    "    for idx, row in df.iterrows():\n",
    "        try:\n",
    "            image_path = ''.join([path,'/',row.id,'.jpg'])\n",
    "            response = requests.get(row.url)\n",
    "\n",
    "            with open(image_path, 'wb') as outfile:\n",
    "                outfile.write(response.content)\n",
    "                outfile.close()\n",
    "        except:\n",
    "            print('...Error occured at idx: %d'%idx)\n",
    "\n",
    "    logging.info('download completed.')"
   ]
  },
  {
   "cell_type": "code",
   "execution_count": 2,
   "metadata": {},
   "outputs": [
    {
     "name": "stdout",
     "output_type": "stream",
     "text": [
      "              skiing in 8.47e-01 seconds.\n"
     ]
    }
   ],
   "source": [
    "key = 'skiing'\n",
    "start = time()\n",
    "get_photos(key)\n",
    "end = time()\n",
    "print('%20s in %.2e seconds.' %(key, end-start)) # should vary between 3-8 seconds depending on the keyword."
   ]
  },
  {
   "cell_type": "code",
   "execution_count": 3,
   "metadata": {},
   "outputs": [],
   "source": [
    "# # we test loading the image.\n",
    "# from PIL import Image\n",
    "\n",
    "# image = Image.open('.jpg'%(keyword,test.id[0]))\n",
    "# image.show()"
   ]
  },
  {
   "cell_type": "code",
   "execution_count": null,
   "metadata": {},
   "outputs": [],
   "source": []
  }
 ],
 "metadata": {
  "kernelspec": {
   "display_name": "Python 3",
   "language": "python",
   "name": "python3"
  },
  "language_info": {
   "codemirror_mode": {
    "name": "ipython",
    "version": 3
   },
   "file_extension": ".py",
   "mimetype": "text/x-python",
   "name": "python",
   "nbconvert_exporter": "python",
   "pygments_lexer": "ipython3",
   "version": "3.7.3"
  }
 },
 "nbformat": 4,
 "nbformat_minor": 4
}
